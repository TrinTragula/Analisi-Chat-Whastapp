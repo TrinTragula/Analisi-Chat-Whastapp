{
 "cells": [
  {
   "cell_type": "markdown",
   "metadata": {},
   "source": [
    "# File txt di input (ottenibile dall'app di WhatsApp, senza esportare i media)"
   ]
  },
  {
   "cell_type": "code",
   "execution_count": null,
   "metadata": {},
   "outputs": [],
   "source": [
    "filename = \"chat.txt\""
   ]
  },
  {
   "cell_type": "markdown",
   "metadata": {},
   "source": [
    "# Struttura base"
   ]
  },
  {
   "cell_type": "code",
   "execution_count": null,
   "metadata": {
    "collapsed": true
   },
   "outputs": [],
   "source": [
    "import os\n",
    "import numpy as np\n",
    "import pandas as pd\n",
    "from datetime import datetime\n",
    "import re\n",
    "import matplotlib\n",
    "import numpy as np\n",
    "import matplotlib.pyplot as plt\n",
    "from IPython.display import display, Markdown, Latex\n",
    "import operator\n",
    "import sys\n",
    "%matplotlib inline  \n",
    "\n",
    "class ChatLine:\n",
    "    \"\"\"\n",
    "        Modello di linea di chat\n",
    "    \"\"\"\n",
    "    messaggiWhatsapp = [\n",
    "        \"ti ha aggiunto\",\n",
    "        \"ha aggiunto\",\n",
    "        \"Hai aggiunto\",\n",
    "        \"ha abbandonato\",\n",
    "        \"Hai abbandonato\",\n",
    "        \"ha rimosso\",\n",
    "        \"ha cambiato\",\n",
    "        \"Hai cambiato\",\n",
    "        \"I messaggi inviati a questo gruppo sono ora protetti con la crittografia end-to-end.\",\n",
    "        \"è cambiato. Tocca per maggiori info.\",\n",
    "        \"ti ha rimosso\",\n",
    "        \"Hai eliminato l'immagine del gruppo\",\n",
    "        \"ha cambiato numero da \",\n",
    "        \"I messaggi che invii in questa chat\",\n",
    "        \"I messaggi inviati a questo gruppo\",\n",
    "        \"ha creato il gruppo\",\n",
    "        \"ora è un amministratore\",\n",
    "        \"è stato cambiato con\",\n",
    "        \"è entrato usando il link d'invito al gruppo\",\n",
    "        \"ha eliminato l'immagine del gruppo\"\n",
    "    ]\n",
    "    ANNUNCI = \"Annunci WhatsApp\"\n",
    "    # Logica di parsing della linea di chat\n",
    "    def __init__(self, line):\n",
    "        try:\n",
    "            # I messaggi sono del tipo \"<data>, <ora> - <persona>: <messaggio>\"\n",
    "            # o del tipo \"<data>, <ora> - <Annuncio Whatsapp>\"\n",
    "            stripped = line.split(\"-\", 1)\n",
    "            strippedm = stripped[1].split(\":\", 1)\n",
    "            self.mittente = strippedm[0].strip()\n",
    "            self.date = datetime.strptime(stripped[0], '%d/%m/%y, %H:%M ')\n",
    "            # caso \"<data>, <ora> - <Annuncio Whatsapp>\"\n",
    "            if len(strippedm) == 1 and any(s in line for s in self.messaggiWhatsapp):\n",
    "                self.mittente = self.ANNUNCI\n",
    "                self.messaggio = stripped[1].strip()\n",
    "                \n",
    "            # caso \"<data>, <ora> - <persona>: <messaggio>\"\n",
    "            else:   \n",
    "                self.mittente = strippedm[0].strip()\n",
    "                # L'annuncio conteneva due punti, caso '<data>, <ora> - Hai cambiato l'oggetto in \"qualcosa: titolo\"'\n",
    "                if any(s in self.mittente for s in self.messaggiWhatsapp):\n",
    "                    self.mittente = self.ANNUNCI\n",
    "                    self.messaggio = stripped[1].strip()\n",
    "                else: \n",
    "                    self.messaggio = strippedm[1].strip()\n",
    "            if not hasattr(self, \"messaggio\"):\n",
    "                print \"ERRORE nella seguente linea di chat (mandatamela come issue):\"\n",
    "                print line\n",
    "        except:\n",
    "            print \"ERRORE nella seguente linea di chat (mandatamela come issue):\"\n",
    "            print line\n",
    "    "
   ]
  },
  {
   "cell_type": "markdown",
   "metadata": {},
   "source": [
    "# Importo i messaggi"
   ]
  },
  {
   "cell_type": "code",
   "execution_count": null,
   "metadata": {},
   "outputs": [],
   "source": [
    "# Leggo i messaggi e li associo ad un oggetto \n",
    "regex=re.compile('^\\d{2}\\/\\d{2}\\/\\d{2}\\,\\s\\d{2}\\:\\d{2}')\n",
    "with open(filename) as f:\n",
    "    rawChat = []\n",
    "    i = 0\n",
    "    for line in f.read().split(\"\\n\"):\n",
    "        if re.match(regex, line):\n",
    "            rawChat.append(line)\n",
    "            i += 1\n",
    "        else:\n",
    "            rawChat[i-1] += line\n",
    "\n",
    "rawChat = [ChatLine(x) for x in rawChat]\n",
    "chat = []\n",
    "previous = None\n",
    "# (messaggi di una stessa persona inviati di seguito sono considerati come un unico messaggio)\n",
    "for mess in rawChat:\n",
    "    if (previous is not None and previous.mittente == mess.mittente):\n",
    "        previous.messaggio += mess.messaggio\n",
    "    else:\n",
    "        chat.append(mess)\n",
    "        previous = mess"
   ]
  },
  {
   "cell_type": "markdown",
   "metadata": {},
   "source": [
    "# Analisi generica dei dati ottenuti"
   ]
  },
  {
   "cell_type": "code",
   "execution_count": null,
   "metadata": {
    "scrolled": false
   },
   "outputs": [],
   "source": [
    "dirName = \"risultati\"\n",
    "if not os.path.exists(dirName):\n",
    "    os.makedirs(dirName)\n",
    "\n",
    "data = {}\n",
    "data[\"messaggi_inviati\"] = {}\n",
    "for mess in chat:\n",
    "    if mess.mittente == ChatLine.ANNUNCI:\n",
    "        continue\n",
    "    if not mess.mittente in data[\"messaggi_inviati\"]:\n",
    "        data[\"messaggi_inviati\"][mess.mittente] = 0\n",
    "    data[\"messaggi_inviati\"][mess.mittente] += 1\n",
    "        \n",
    "data[\"link_inviati\"] = {}\n",
    "for mess in chat:\n",
    "    if mess.mittente == ChatLine.ANNUNCI:\n",
    "        continue\n",
    "    if not mess.mittente in data[\"link_inviati\"]:\n",
    "        data[\"link_inviati\"][mess.mittente] = 0\n",
    "    if (\"http\" in mess.messaggio):\n",
    "        data[\"link_inviati\"][mess.mittente] += 1\n",
    "data[\"link_per_messaggio\"] = {}\n",
    "for f in data[\"link_inviati\"]:\n",
    "    data[\"link_per_messaggio\"][f] = data[\"link_inviati\"][f] / (data[\"messaggi_inviati\"][f] * 1.0)\n",
    "    \n",
    "data[\"media_inviati\"] = {}\n",
    "for mess in chat:\n",
    "    if mess.mittente == ChatLine.ANNUNCI:\n",
    "        continue\n",
    "    if not mess.mittente in data[\"media_inviati\"]:\n",
    "        data[\"media_inviati\"][mess.mittente] = 0\n",
    "    if (\"<Media omesso>\" in mess.messaggio):\n",
    "        data[\"media_inviati\"][mess.mittente] += 1\n",
    "        \n",
    "data[\"media_inviati_per_messaggio\"] = {}\n",
    "for f in data[\"media_inviati\"]:\n",
    "    data[\"media_inviati_per_messaggio\"][f] = data[\"media_inviati\"][f] / (data[\"messaggi_inviati\"][f] * 1.0)\n",
    "    \n",
    "df = pd.DataFrame(data)\n",
    "df[\"messaggi_inviati\"].plot(kind='pie',figsize=(13,13),fontsize=15, title=\"Messaggi inviati\")\n",
    "plt.axis('off')\n",
    "plt.savefig(dirName + '/messaggi_inviati.png', dpi=300, bbox_inches='tight')\n",
    "plt.show()\n",
    "\n",
    "df[\"link_per_messaggio\"].plot(kind='bar',figsize=(17,9),fontsize=15, title=\"Link per messaggio\", grid=True)\n",
    "plt.savefig(dirName + '/link_per_messaggio.png', dpi=300, bbox_inches='tight')\n",
    "plt.show()\n",
    "\n",
    "df[\"media_inviati_per_messaggio\"].plot(kind='bar',figsize=(17,9),fontsize=15, title=\"Media inviati per messaggio\", grid=True)\n",
    "plt.savefig(dirName + '/media_inviati_per_messaggio.png', dpi=300, bbox_inches='tight')\n",
    "plt.show()"
   ]
  },
  {
   "cell_type": "markdown",
   "metadata": {},
   "source": [
    "# Analisi temporale"
   ]
  },
  {
   "cell_type": "code",
   "execution_count": null,
   "metadata": {
    "scrolled": false
   },
   "outputs": [],
   "source": [
    "calendario = {}\n",
    "\n",
    "# Analizza i messaggi inviati ogni giorno\n",
    "for mess in chat:\n",
    "    if mess.mittente == ChatLine.ANNUNCI:\n",
    "        continue\n",
    "    date = mess.date.strftime('%Y/%m/%d')\n",
    "    if not date in calendario:\n",
    "        calendario[date] = 0\n",
    "    calendario[date] += 1\n",
    "    \n",
    "df = pd.Series(calendario, name='DateValue')\n",
    "df.plot(kind='line',figsize=(55,9),fontsize=15, title=\"Messaggi inviati nel corso del tempo\", grid=\"True\", color=\"g\")\n",
    "plt.savefig(dirName + '/calendario.png', dpi=300, bbox_inches='tight')\n",
    "\n",
    "ore = {}\n",
    "\n",
    "for mess in chat:\n",
    "    if mess.mittente == ChatLine.ANNUNCI:\n",
    "        continue\n",
    "    date = mess.date.strftime('%H')\n",
    "    if not mess.mittente in ore:\n",
    "        ore[mess.mittente] = {}\n",
    "    if not date in ore[mess.mittente]:\n",
    "        ore[mess.mittente][date] = 0\n",
    "    ore[mess.mittente][date] += 1\n",
    "    \n",
    "df = pd.DataFrame(ore)\n",
    "df.fillna(0, inplace=True)\n",
    "df.plot(kind='line',figsize=(15,9),fontsize=15, title=\"Frequenza oraria di utilizzo\", grid=\"True\")\n",
    "plt.savefig(dirName + '/uso_orario.png', dpi=300, bbox_inches='tight')\n"
   ]
  },
  {
   "cell_type": "markdown",
   "metadata": {},
   "source": [
    "# Analisi parole più utilizzate"
   ]
  },
  {
   "cell_type": "code",
   "execution_count": null,
   "metadata": {},
   "outputs": [],
   "source": [
    "reload(sys)\n",
    "sys.setdefaultencoding('utf-8')\n",
    "# Parole escluse (Parole più comuni)\n",
    "escluse = open(\"topParole.txt\").read().split(\"\\n\")\n",
    "escluse = map(lambda x: x.lower(), escluse)\n",
    "\n",
    "words = {}\n",
    "for mess in chat:\n",
    "    if mess.mittente == ChatLine.ANNUNCI:\n",
    "        continue\n",
    "    messaggio = mess.messaggio\n",
    "    parole = messaggio.split(\" \")\n",
    "    parole = map(lambda x: x.lower(), parole)\n",
    "    for parola in parole:\n",
    "        if parola not in words:\n",
    "            words[parola] = 0\n",
    "        if len(parola) > 3 and parola not in escluse:\n",
    "            words[parola] += 1\n",
    "            \n",
    "df = pd.Series(words, name=\"Parole più utilizzate\")\n",
    "df = df.to_frame()\n",
    "df = df.sort_values(['Parole più utilizzate'], ascending=[0])\n",
    "# Vogliamo solo le prime 20 parole\n",
    "df = df.head(20)\n",
    "df.plot(kind='bar',figsize=(25,7),fontsize=15, \\\n",
    "        title=\"Parole più utilizzate (escluse le parole piu comuni della lingua italiana e quelle più corte di 3 lettere)\", grid=True)\n",
    "plt.savefig(dirName + '/uso_parole.png', dpi=300, bbox_inches='tight')"
   ]
  }
 ],
 "metadata": {
  "kernelspec": {
   "display_name": "Python 2",
   "language": "python",
   "name": "python2"
  },
  "language_info": {
   "codemirror_mode": {
    "name": "ipython",
    "version": 2
   },
   "file_extension": ".py",
   "mimetype": "text/x-python",
   "name": "python",
   "nbconvert_exporter": "python",
   "pygments_lexer": "ipython2",
   "version": "2.7.13"
  }
 },
 "nbformat": 4,
 "nbformat_minor": 2
}
